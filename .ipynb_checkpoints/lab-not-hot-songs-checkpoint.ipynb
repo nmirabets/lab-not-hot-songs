{
 "cells": [
  {
   "cell_type": "markdown",
   "id": "b11aa7c9-4c1f-45dc-8cc3-bf2a5dcea016",
   "metadata": {},
   "source": [
    "# Load Libraries"
   ]
  },
  {
   "cell_type": "code",
   "execution_count": 1,
   "id": "b8f5eccd-9597-4c2f-8dd4-7e38d7384bb7",
   "metadata": {},
   "outputs": [],
   "source": [
    "import pandas as pd\n",
    "import os\n",
    "import h5py\n",
    "import glob\n",
    "import hdf5_getters\n",
    "from bs4 import BeautifulSoup\n",
    "import requests\n",
    "\n",
    "import functions"
   ]
  },
  {
   "cell_type": "markdown",
   "id": "f8eb1932-c189-4357-92de-d15a5fc79287",
   "metadata": {},
   "source": [
    "# 1 MillionSongSubset Dataset\n",
    "\n",
    "The first datset we will download is the [MillionSongSubset dataset](http://millionsongdataset.com/pages/getting-dataset/)"
   ]
  },
  {
   "cell_type": "code",
   "execution_count": 2,
   "id": "c83c561e-af01-4420-be0f-8cbeed321261",
   "metadata": {},
   "outputs": [],
   "source": [
    "# Define function to get all song titles and artists\n",
    "\n",
    "def get_all_songs(basedir,ext='.h5') :\n",
    "    titles = []\n",
    "    artists = []\n",
    "    for root, dirs, files in os.walk(basedir):\n",
    "        files = glob.glob(os.path.join(root,'*'+ext))\n",
    "        for f in files:\n",
    "            h5 = hdf5_getters.open_h5_file_read(f)\n",
    "            titles.append( hdf5_getters.get_title(h5) )\n",
    "            artists.append( hdf5_getters.get_artist_name(h5) )\n",
    "            h5.close()\n",
    "    return titles, artists"
   ]
  },
  {
   "cell_type": "code",
   "execution_count": 3,
   "id": "f6a748bb-0f29-49dc-bfaf-bac036c30e1b",
   "metadata": {},
   "outputs": [],
   "source": [
    "# Call function to collect all titles and artists\n",
    "all_titles, all_artists = get_all_songs('./MillionSongSubset', 'h5')"
   ]
  },
  {
   "cell_type": "code",
   "execution_count": 4,
   "id": "6ec326e7-7f65-4d34-ada1-153843161159",
   "metadata": {},
   "outputs": [
    {
     "name": "stdout",
     "output_type": "stream",
     "text": [
      "(10000, 2)\n"
     ]
    },
    {
     "data": {
      "text/html": [
       "<div>\n",
       "<style scoped>\n",
       "    .dataframe tbody tr th:only-of-type {\n",
       "        vertical-align: middle;\n",
       "    }\n",
       "\n",
       "    .dataframe tbody tr th {\n",
       "        vertical-align: top;\n",
       "    }\n",
       "\n",
       "    .dataframe thead th {\n",
       "        text-align: right;\n",
       "    }\n",
       "</style>\n",
       "<table border=\"1\" class=\"dataframe\">\n",
       "  <thead>\n",
       "    <tr style=\"text-align: right;\">\n",
       "      <th></th>\n",
       "      <th>title</th>\n",
       "      <th>artist</th>\n",
       "    </tr>\n",
       "  </thead>\n",
       "  <tbody>\n",
       "    <tr>\n",
       "      <th>0</th>\n",
       "      <td>b'Je Sais Que La Terre Est Plate'</td>\n",
       "      <td>b'Rapha\\xc3\\xabl'</td>\n",
       "    </tr>\n",
       "    <tr>\n",
       "      <th>1</th>\n",
       "      <td>b'On Efface'</td>\n",
       "      <td>b'Julie Zenatti'</td>\n",
       "    </tr>\n",
       "    <tr>\n",
       "      <th>2</th>\n",
       "      <td>b'Howells Delight'</td>\n",
       "      <td>b'The Baltimore Consort'</td>\n",
       "    </tr>\n",
       "    <tr>\n",
       "      <th>3</th>\n",
       "      <td>b'Martha Served'</td>\n",
       "      <td>b'I Hate Sally'</td>\n",
       "    </tr>\n",
       "    <tr>\n",
       "      <th>4</th>\n",
       "      <td>b'Zip-A-Dee-Doo-Dah (Song of the South)'</td>\n",
       "      <td>b'Orlando Pops Orchestra'</td>\n",
       "    </tr>\n",
       "  </tbody>\n",
       "</table>\n",
       "</div>"
      ],
      "text/plain": [
       "                                      title                     artist\n",
       "0         b'Je Sais Que La Terre Est Plate'          b'Rapha\\xc3\\xabl'\n",
       "1                              b'On Efface'           b'Julie Zenatti'\n",
       "2                        b'Howells Delight'   b'The Baltimore Consort'\n",
       "3                          b'Martha Served'            b'I Hate Sally'\n",
       "4  b'Zip-A-Dee-Doo-Dah (Song of the South)'  b'Orlando Pops Orchestra'"
      ]
     },
     "execution_count": 4,
     "metadata": {},
     "output_type": "execute_result"
    }
   ],
   "source": [
    "# Create a DataFrame with all titles and artists\n",
    "mss_df = pd.DataFrame({'title': all_titles, 'artist': all_artists})\n",
    "\n",
    "# Show first 5 rows & shape\n",
    "print(mss_df.shape)\n",
    "mss_df.head()"
   ]
  },
  {
   "cell_type": "code",
   "execution_count": 5,
   "id": "a8b0ca90-f5c0-46bc-9422-b181a2869e27",
   "metadata": {},
   "outputs": [
    {
     "data": {
      "text/html": [
       "<div>\n",
       "<style scoped>\n",
       "    .dataframe tbody tr th:only-of-type {\n",
       "        vertical-align: middle;\n",
       "    }\n",
       "\n",
       "    .dataframe tbody tr th {\n",
       "        vertical-align: top;\n",
       "    }\n",
       "\n",
       "    .dataframe thead th {\n",
       "        text-align: right;\n",
       "    }\n",
       "</style>\n",
       "<table border=\"1\" class=\"dataframe\">\n",
       "  <thead>\n",
       "    <tr style=\"text-align: right;\">\n",
       "      <th></th>\n",
       "      <th>title</th>\n",
       "      <th>artist</th>\n",
       "    </tr>\n",
       "  </thead>\n",
       "  <tbody>\n",
       "    <tr>\n",
       "      <th>0</th>\n",
       "      <td>Je Sais Que La Terre Est Plate</td>\n",
       "      <td>Rapha\\xc3\\xal</td>\n",
       "    </tr>\n",
       "    <tr>\n",
       "      <th>1</th>\n",
       "      <td>On Efface</td>\n",
       "      <td>Julie Zenatti</td>\n",
       "    </tr>\n",
       "    <tr>\n",
       "      <th>2</th>\n",
       "      <td>Howells Delight</td>\n",
       "      <td>The Baltimore Consort</td>\n",
       "    </tr>\n",
       "    <tr>\n",
       "      <th>3</th>\n",
       "      <td>Martha Served</td>\n",
       "      <td>I Hate Sally</td>\n",
       "    </tr>\n",
       "    <tr>\n",
       "      <th>4</th>\n",
       "      <td>Zip-A-Dee-Doo-Dah (Song of the South)</td>\n",
       "      <td>Orlando Pops Orchestra</td>\n",
       "    </tr>\n",
       "  </tbody>\n",
       "</table>\n",
       "</div>"
      ],
      "text/plain": [
       "                                   title                  artist\n",
       "0         Je Sais Que La Terre Est Plate           Rapha\\xc3\\xal\n",
       "1                              On Efface           Julie Zenatti\n",
       "2                        Howells Delight   The Baltimore Consort\n",
       "3                          Martha Served            I Hate Sally\n",
       "4  Zip-A-Dee-Doo-Dah (Song of the South)  Orlando Pops Orchestra"
      ]
     },
     "execution_count": 5,
     "metadata": {},
     "output_type": "execute_result"
    }
   ],
   "source": [
    "# Define column type as string\n",
    "mss_df['title'] = mss_df['title'].astype(str)\n",
    "mss_df['artist'] = mss_df['artist'].astype(str)\n",
    "\n",
    "# Clean titles and artists by replacing extra characters: \"'\" and \"b\"\n",
    "mss_df['title'] = mss_df['title'].str.replace('b|\\'', '', regex = True)\n",
    "mss_df['artist'] = mss_df['artist'].str.replace('b|\\'', '', regex = True)\n",
    "\n",
    "# Show first 5 rows\n",
    "mss_df.head()"
   ]
  },
  {
   "cell_type": "markdown",
   "id": "f2ad2606-21a9-4305-9a06-db1f883af280",
   "metadata": {},
   "source": [
    "### Remove duplicate rows from Hot 100 Songs"
   ]
  },
  {
   "cell_type": "code",
   "execution_count": 19,
   "id": "c2bfebb1-5f0d-47c1-bb7e-0a7f1542c38c",
   "metadata": {},
   "outputs": [
    {
     "data": {
      "text/plain": [
       "(10000, 3)"
      ]
     },
     "metadata": {},
     "output_type": "display_data"
    },
    {
     "data": {
      "text/html": [
       "<div>\n",
       "<style scoped>\n",
       "    .dataframe tbody tr th:only-of-type {\n",
       "        vertical-align: middle;\n",
       "    }\n",
       "\n",
       "    .dataframe tbody tr th {\n",
       "        vertical-align: top;\n",
       "    }\n",
       "\n",
       "    .dataframe thead th {\n",
       "        text-align: right;\n",
       "    }\n",
       "</style>\n",
       "<table border=\"1\" class=\"dataframe\">\n",
       "  <thead>\n",
       "    <tr style=\"text-align: right;\">\n",
       "      <th></th>\n",
       "      <th>title</th>\n",
       "      <th>artist</th>\n",
       "    </tr>\n",
       "  </thead>\n",
       "  <tbody>\n",
       "    <tr>\n",
       "      <th>0</th>\n",
       "      <td>Je Sais Que La Terre Est Plate</td>\n",
       "      <td>Rapha\\xc3\\xal</td>\n",
       "    </tr>\n",
       "    <tr>\n",
       "      <th>1</th>\n",
       "      <td>On Efface</td>\n",
       "      <td>Julie Zenatti</td>\n",
       "    </tr>\n",
       "    <tr>\n",
       "      <th>2</th>\n",
       "      <td>Howells Delight</td>\n",
       "      <td>The Baltimore Consort</td>\n",
       "    </tr>\n",
       "    <tr>\n",
       "      <th>3</th>\n",
       "      <td>Martha Served</td>\n",
       "      <td>I Hate Sally</td>\n",
       "    </tr>\n",
       "    <tr>\n",
       "      <th>4</th>\n",
       "      <td>Zip-A-Dee-Doo-Dah (Song of the South)</td>\n",
       "      <td>Orlando Pops Orchestra</td>\n",
       "    </tr>\n",
       "  </tbody>\n",
       "</table>\n",
       "</div>"
      ],
      "text/plain": [
       "                                   title                  artist\n",
       "0         Je Sais Que La Terre Est Plate           Rapha\\xc3\\xal\n",
       "1                              On Efface           Julie Zenatti\n",
       "2                        Howells Delight   The Baltimore Consort\n",
       "3                          Martha Served            I Hate Sally\n",
       "4  Zip-A-Dee-Doo-Dah (Song of the South)  Orlando Pops Orchestra"
      ]
     },
     "execution_count": 19,
     "metadata": {},
     "output_type": "execute_result"
    }
   ],
   "source": [
    "# Load Hot 100 songs dataset\n",
    "hot_songs_df = functions.scrape_hot100()\n",
    "\n",
    "# Merge the two DataFrames based on their columns to identify the common rows\n",
    "merged_df = pd.merge(mss_df, hot_songs_df, indicator=True, how='outer')\n",
    "\n",
    "# Filter out the rows that are present in both DataFrames\n",
    "mss_filtered_df = merged_df[merged_df['_merge'] == 'left_only']\n",
    "\n",
    "# Check if any rows were removed\n",
    "display(mss_filtered_df.shape)\n",
    "\n",
    "# Drop the _merge column\n",
    "mss_clean_df = mss_filtered_df.drop(columns='_merge')\n",
    "\n",
    "# Show clean df\n",
    "mss_clean_df.head()"
   ]
  },
  {
   "cell_type": "code",
   "execution_count": 20,
   "id": "59e688d4-bb04-448b-83cc-55fcbece7d35",
   "metadata": {},
   "outputs": [],
   "source": [
    "# Save data as csv\n",
    "mss_clean_df.to_csv('million_song_subset.csv',index = False, sep=\";\")"
   ]
  },
  {
   "cell_type": "markdown",
   "id": "6bb307cc-da38-4af0-93db-7dd84dfff373",
   "metadata": {},
   "source": [
    "# 2 Wikipedia Web Scraping Dataset (WIP)"
   ]
  },
  {
   "cell_type": "code",
   "execution_count": null,
   "id": "45cf0b44-184d-4c4e-a53a-b10bc4fb1c37",
   "metadata": {},
   "outputs": [],
   "source": [
    "artists_url = 'https://en.wikipedia.org/wiki/Lists_of_songs'\n",
    "songs_url = 'https://en.wikipedia.org/wiki/List_of_songs_recorded_by_{}'\n",
    "\n",
    "artists = []"
   ]
  },
  {
   "cell_type": "code",
   "execution_count": null,
   "id": "27fefeb0-6870-48d5-a3be-dfca9347fe1f",
   "metadata": {},
   "outputs": [],
   "source": [
    "response = requests.get(artists_url)\n",
    "response.status_code "
   ]
  },
  {
   "cell_type": "code",
   "execution_count": null,
   "id": "efde5e13-daaa-4297-b8d9-68e684b80701",
   "metadata": {},
   "outputs": [],
   "source": [
    "soup = BeautifulSoup(response.content, \"html.parser\")\n",
    "\n",
    "\n",
    "artist_divs = soup.select('#mw-content-text > div')\n",
    "\n",
    "print(len(artist_divs))\n",
    "\n",
    "for index, div in enumerate(artist_divs):\n",
    "    print('INDEX:', index, div)"
   ]
  },
  {
   "cell_type": "code",
   "execution_count": null,
   "id": "d4bbac4e-29f1-4105-bc4d-58366e386623",
   "metadata": {},
   "outputs": [],
   "source": []
  }
 ],
 "metadata": {
  "kernelspec": {
   "display_name": "Python 3 (ipykernel)",
   "language": "python",
   "name": "python3"
  },
  "language_info": {
   "codemirror_mode": {
    "name": "ipython",
    "version": 3
   },
   "file_extension": ".py",
   "mimetype": "text/x-python",
   "name": "python",
   "nbconvert_exporter": "python",
   "pygments_lexer": "ipython3",
   "version": "3.10.12"
  }
 },
 "nbformat": 4,
 "nbformat_minor": 5
}
